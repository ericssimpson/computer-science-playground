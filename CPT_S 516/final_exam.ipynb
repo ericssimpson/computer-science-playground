{
 "cells": [
  {
   "cell_type": "code",
   "execution_count": null,
   "metadata": {},
   "outputs": [],
   "source": [
    "# C1, C2, C3, C = -3, 0, 4, 17\n",
    "# C1, C2, C3, C = -3, 2, -1, 5\n",
    "# C1, C2, C3, C = -6, 4, -2, 9\n",
    "# C1, C2, C3, C = -3, 2, 1, 3\n",
    "# C1, C2, C3, C = -6, 4, -1, 3"
   ]
  },
  {
   "cell_type": "code",
   "execution_count": null,
   "metadata": {},
   "outputs": [],
   "source": [
    "#* Returns C_max using equation (4)’s specification.\n",
    "def c_max(C1: int, C2: int, C3: int, C: int) -> int:\n",
    "    max_value = 0\n",
    "    for d1 in (0, 1):\n",
    "        for d2 in (0, 1):\n",
    "            for d3 in (0, 1):\n",
    "                for d in (0, 1):\n",
    "                    value = C1 * d1 + C2 * d2 + C3 * d3 + d\n",
    "                    max_value = max(max_value, abs(value))\n",
    "    return max_value"
   ]
  },
  {
   "cell_type": "code",
   "execution_count": null,
   "metadata": {},
   "outputs": [],
   "source": [
    "#* Testing the function with the example provided.\n",
    "result = c_max(-3, 0, 4, 17)\n",
    "print(f\"C_max = {result}\") #? C_max = 5"
   ]
  },
  {
   "cell_type": "code",
   "execution_count": null,
   "metadata": {},
   "outputs": [],
   "source": [
    "#* Testing the function with the example provided.\n",
    "result = c_max(-3, 2, -1, 5)\n",
    "print(f\"C_max = {result}\") #? C_max = 4"
   ]
  },
  {
   "cell_type": "code",
   "execution_count": null,
   "metadata": {},
   "outputs": [],
   "source": [
    "#* Testing the function with the example provided.\n",
    "result = c_max(-6, 4, -2, 9)\n",
    "print(f\"C_max = {result}\") #? C_max = 8"
   ]
  },
  {
   "cell_type": "code",
   "execution_count": null,
   "metadata": {},
   "outputs": [],
   "source": [
    "#* Testing the function with the example provided.\n",
    "result = c_max(-3, 2, 1, 3)\n",
    "print(f\"C_max = {result}\") #? C_max = 4"
   ]
  },
  {
   "cell_type": "code",
   "execution_count": null,
   "metadata": {},
   "outputs": [],
   "source": [
    "#* Testing the function with the example provided.\n",
    "result = c_max(-6, 4, -1, 3)\n",
    "print(f\"C_max = {result}\") #? C_max = 7"
   ]
  },
  {
   "cell_type": "code",
   "execution_count": null,
   "metadata": {},
   "outputs": [],
   "source": [
    "#* Returns the binary representation of a given non-negative integer C.\n",
    "def binary_representation(C: int) -> str:\n",
    "    binary = \"\"\n",
    "    while C > 0:\n",
    "        remainder = C % 2\n",
    "        C = C // 2\n",
    "        binary = str(remainder) + binary\n",
    "    return binary"
   ]
  },
  {
   "cell_type": "code",
   "execution_count": null,
   "metadata": {},
   "outputs": [],
   "source": [
    "#* Returns the number of bits needed to represent a non-negative integer C.\n",
    "def k_c(C: int) -> int:\n",
    "    if C == 0:\n",
    "        return 0\n",
    "    else:\n",
    "        count = 0\n",
    "        while C > 0:\n",
    "            C = C // 2\n",
    "            count += 1\n",
    "        return count"
   ]
  },
  {
   "cell_type": "code",
   "execution_count": null,
   "metadata": {},
   "outputs": [],
   "source": [
    "#* Testing the function with the example provided.\n",
    "C = 18\n",
    "K_C = k_c(C)\n",
    "B_C = binary_representation(C)\n",
    "print(f\"BINARY = {B_C}\") #? BINARY = 10010\n",
    "print(f\"K_C = {K_C}\") #? K_C = 5"
   ]
  },
  {
   "cell_type": "code",
   "execution_count": null,
   "metadata": {},
   "outputs": [],
   "source": [
    "#* Function to return the value of b_i from a given constant C and index i.\n",
    "def b_i(C: int, i: int) -> int:\n",
    "    K_C = k_c(C)\n",
    "    if i > K_C + 1 or i < 1:\n",
    "        raise ValueError(\"Index i must be in the range of 1 <= i <= K_C + 1.\")\n",
    "    \n",
    "    binary = binary_representation(C)\n",
    "    \n",
    "    #! When i = K_C + 1, b_i is defined as 0.\n",
    "    if i == K_C + 1:\n",
    "        return 0\n",
    "    else:\n",
    "        return int(binary[-i])  #! Reverse index to access the correct bit."
   ]
  },
  {
   "cell_type": "code",
   "execution_count": null,
   "metadata": {},
   "outputs": [],
   "source": [
    "#* Testing the function with the example provided.\n",
    "C = 18\n",
    "print(f\"b__1 = {b_i(C, 1)}\") #? b_1 = 1\n",
    "print(f\"b__2 = {b_i(C, 2)}\") #? b_2 = 0\n",
    "print(f\"b__3 = {b_i(C, 3)}\") #? b_3 = 0\n",
    "print(f\"b__4 = {b_i(C, 4)}\") #? b_4 = 0\n",
    "print(f\"b__5 = {b_i(C, 5)}\") #? b_5 = 1\n",
    "print(f\"b__6 = {b_i(C, 6)}\") #? b_6 = 0"
   ]
  },
  {
   "cell_type": "code",
   "execution_count": null,
   "metadata": {},
   "outputs": [],
   "source": [
    "#* Testing the function with the example provided.\n",
    "C = 17\n",
    "print(f\"b__1 = {b_i(C, 1)}\") #? b_1 = 1\n",
    "print(f\"b__2 = {b_i(C, 2)}\") #? b_2 = 0\n",
    "print(f\"b__3 = {b_i(C, 3)}\") #? b_3 = 0\n",
    "print(f\"b__4 = {b_i(C, 4)}\") #? b_4 = 0\n",
    "print(f\"b__5 = {b_i(C, 5)}\") #? b_5 = 1\n",
    "print(f\"b__6 = {b_i(C, 6)}\") #? b_6 = 0"
   ]
  },
  {
   "cell_type": "code",
   "execution_count": null,
   "metadata": {},
   "outputs": [],
   "source": [
    "#* Testing the function with the example provided.\n",
    "C = 5\n",
    "print(f\"b__1 = {b_i(C, 1)}\") #? b_1 = 1\n",
    "print(f\"b__2 = {b_i(C, 2)}\") #? b_2 = 0\n",
    "print(f\"b__3 = {b_i(C, 3)}\") #? b_3 = 1\n",
    "print(f\"b__4 = {b_i(C, 4)}\") #? b_4 = 0"
   ]
  },
  {
   "cell_type": "code",
   "execution_count": null,
   "metadata": {},
   "outputs": [],
   "source": [
    "#* Testing the function with the example provided.\n",
    "C = 9\n",
    "print(f\"b__1 = {b_i(C, 1)}\") #? b_1 = 1\n",
    "print(f\"b__2 = {b_i(C, 2)}\") #? b_2 = 0\n",
    "print(f\"b__3 = {b_i(C, 3)}\") #? b_3 = 0\n",
    "print(f\"b__4 = {b_i(C, 4)}\") #? b_4 = 1\n",
    "print(f\"b__5 = {b_i(C, 5)}\") #? b_5 = 0"
   ]
  },
  {
   "cell_type": "code",
   "execution_count": null,
   "metadata": {},
   "outputs": [],
   "source": [
    "#* Testing the function with the example provided.\n",
    "C = 3\n",
    "print(f\"b__1 = {b_i(C, 1)}\") #? b_1 = 1\n",
    "print(f\"b__2 = {b_i(C, 2)}\") #? b_2 = 1\n",
    "print(f\"b__3 = {b_i(C, 3)}\") #? b_3 = 0"
   ]
  },
  {
   "cell_type": "code",
   "execution_count": null,
   "metadata": {},
   "outputs": [],
   "source": [
    "#* Returns a set of all input symbols as triples of three Boolean values.\n",
    "def input_symbols(verbose: bool = False) -> set:\n",
    "    symbols = set()\n",
    "    for a1 in (0, 1):\n",
    "        for a2 in (0, 1):\n",
    "            for a3 in (0, 1):\n",
    "                symbols.add((a1, a2, a3))\n",
    "    return symbols"
   ]
  },
  {
   "cell_type": "code",
   "execution_count": null,
   "metadata": {},
   "outputs": [],
   "source": [
    "#* Function to create the FA M using equation (3)’s specification.\n",
    "def equation_to_labeled_graph(C1: int, C2: int, C3: int, C: int) -> dict:\n",
    "\n",
    "    C_max = c_max(C1, C2, C3, C)\n",
    "    K_C = k_c(C)\n",
    "    symbols = input_symbols()\n",
    "\n",
    "    M = {}\n",
    "\n",
    "    #! Iterate through all possible states [carry, i].\n",
    "    for carry in range(-C_max, C_max + 1) if C_max != 0 else range(1):\n",
    "        for i in range(1, K_C + 2):\n",
    "            current_state = (carry, i)\n",
    "\n",
    "            #! For each state, iterate through all input symbols.\n",
    "            for a1, a2, a3 in symbols:\n",
    "                R = C1 * a1 + C2 * a2 + C3 * a3 + b_i(C, i) + carry\n",
    "                \n",
    "                #! Check if R is divisible by 2.\n",
    "                if R % 2 == 0:\n",
    "                    carry_prime = R // 2\n",
    "                    \n",
    "                    #! Update i_prime depending on the current i value.\n",
    "                    if 1 <= i <= K_C:\n",
    "                        i_prime = i + 1\n",
    "                    else:\n",
    "                        i_prime = i\n",
    "                    \n",
    "                    next_state = (carry_prime, i_prime)\n",
    "\n",
    "                    #! Add the transition in M.\n",
    "                    if current_state not in M:\n",
    "                        M[current_state] = {}\n",
    "                    M[current_state][(a1, a2, a3)] = next_state\n",
    "\n",
    "    return M"
   ]
  },
  {
   "cell_type": "code",
   "execution_count": null,
   "metadata": {},
   "outputs": [],
   "source": [
    "#* Testing the function with the example provided.\n",
    "C1, C2, C3, C = -3, 0, 4, 17\n",
    "M = equation_to_labeled_graph(C1, C2, C3, C)\n",
    "print(\"AUTOMATON M = \") #? AUTOMATON M = \n",
    "for state in M:\n",
    "    for symbol in M[state]:\n",
    "        next_state = M[state][symbol]\n",
    "        print(f\"{state}--{symbol}-->{next_state}\")\n",
    "#? (-5, 1)--(0, 1, 0)-->(-2, 2)\n",
    "#? ...\n",
    "#? (5, 6)--(1, 1, 1)-->(3, 6)"
   ]
  },
  {
   "cell_type": "code",
   "execution_count": null,
   "metadata": {},
   "outputs": [],
   "source": [
    "#* Testing the function with the example provided.\n",
    "C1, C2, C3, C = -3, 2, -1, 5\n",
    "M = equation_to_labeled_graph(C1, C2, C3, C)\n",
    "print(\"AUTOMATON M = \") #? AUTOMATON M = \n",
    "for state in M:\n",
    "    for symbol in M[state]:\n",
    "        next_state = M[state][symbol]\n",
    "        print(f\"{state}--{symbol}-->{next_state}\")\n",
    "#? (-4, 1)--(1, 1, 0)-->(-2, 2)\n",
    "#? ...\n",
    "#? (4, 4)--(1, 1, 1)-->(1, 4)"
   ]
  },
  {
   "cell_type": "code",
   "execution_count": null,
   "metadata": {},
   "outputs": [],
   "source": [
    "#* Testing the function with the example provided.\n",
    "C1, C2, C3, C = -6, 4, -2, 9\n",
    "M = equation_to_labeled_graph(C1, C2, C3, C)\n",
    "print(\"AUTOMATON M = \") #? AUTOMATON M = \n",
    "for state in M:\n",
    "    for symbol in M[state]:\n",
    "        next_state = M[state][symbol]\n",
    "        print(f\"{state}--{symbol}-->{next_state}\")\n",
    "#? (-8, 2)--(1, 0, 1)-->(-8, 3)\n",
    "#? ...\n",
    "#? (8, 5)--(0, 1, 1)-->(5, 5)"
   ]
  },
  {
   "cell_type": "code",
   "execution_count": null,
   "metadata": {},
   "outputs": [],
   "source": [
    "#* Testing the function with the example provided.\n",
    "C1, C2, C3, C = -3, 2, 1, 3\n",
    "M = equation_to_labeled_graph(C1, C2, C3, C)\n",
    "print(\"AUTOMATON M = \") #? AUTOMATON M = \n",
    "for state in M:\n",
    "    for symbol in M[state]:\n",
    "        next_state = M[state][symbol]\n",
    "        print(f\"{state}--{symbol}-->{next_state}\")\n",
    "#? (-4, 1)--(1, 1, 0)-->(-2, 2)\n",
    "#? ...\n",
    "#? (4, 3)--(1, 1, 1)-->(2, 3)"
   ]
  },
  {
   "cell_type": "code",
   "execution_count": null,
   "metadata": {},
   "outputs": [],
   "source": [
    "#* Testing the function with the example provided.\n",
    "C1, C2, C3, C = -6, 4, -1, 3\n",
    "M = equation_to_labeled_graph(C1, C2, C3, C)\n",
    "print(\"AUTOMATON M = \") #? AUTOMATON M = \n",
    "for state in M:\n",
    "    for symbol in M[state]:\n",
    "        next_state = M[state][symbol]\n",
    "        print(f\"{state}--{symbol}-->{next_state}\")\n",
    "#? (-7, 1)--(1, 1, 0)-->(-4, 2)\n",
    "#? ...\n",
    "#? (7, 3)--(0, 1, 1)-->(5, 3)"
   ]
  },
  {
   "cell_type": "code",
   "execution_count": null,
   "metadata": {},
   "outputs": [],
   "source": [
    "#* Function to create FA M from the cartesian product of M1 and M2.\n",
    "def cartesian_product(M1: dict, M2: dict) -> dict:\n",
    "    M = {}\n",
    "\n",
    "    #! Iterate through all state pairs (s1, s2) of M1 and M2 states.\n",
    "    for s1 in M1:\n",
    "        for s2 in M2:\n",
    "            current_state = (s1, s2)\n",
    "\n",
    "            #! Iterate through all input symbols.\n",
    "            for symbol in input_symbols():\n",
    "                #! Check if the transitions exist in both M1 and M2.\n",
    "                if symbol in M1[s1] and symbol in M2[s2]:\n",
    "                    next_state1 = M1[s1][symbol]\n",
    "                    next_state2 = M2[s2][symbol]\n",
    "                    next_state = (next_state1, next_state2)\n",
    "\n",
    "                    #! Add the transition in M.\n",
    "                    if current_state not in M:\n",
    "                        M[current_state] = {}\n",
    "                    M[current_state][symbol] = next_state\n",
    "\n",
    "    return M"
   ]
  },
  {
   "cell_type": "code",
   "execution_count": null,
   "metadata": {},
   "outputs": [],
   "source": [
    "#* Testing the function with example equations.\n",
    "C1_1, C2_1, C3_1, C_1 = -3, 2, -1, 5\n",
    "C1_2, C2_2, C3_2, C_2 = -6, 4, -2, 9\n",
    "M1 = equation_to_labeled_graph(C1_1, C2_1, C3_1, C_1)\n",
    "M2 = equation_to_labeled_graph(C1_2, C2_2, C3_2, C_2)\n",
    "M = cartesian_product(M1, M2)\n",
    "print(\"CARTESIAN PRODUCT M =\") #? CARTESIAN PRODUCT M =\n",
    "for state in M:\n",
    "    for symbol in M[state]:\n",
    "        next_state = M[state][symbol]\n",
    "        print(f\"{state}--{symbol}-->{next_state}\")\n",
    "#? ((-4, 1), (-8, 2))--(1, 1, 0)-->((-2, 2), (-5, 3))\n",
    "#? ...\n",
    "#? ((4, 4), (8, 5))--(1, 1, 1)-->((1, 4), (2, 5))"
   ]
  },
  {
   "cell_type": "code",
   "execution_count": null,
   "metadata": {},
   "outputs": [],
   "source": [
    "#* Testing the function with example equations.\n",
    "C1_1, C2_1, C3_1, C_1 = -3, 2, 1, 3\n",
    "C1_2, C2_2, C3_2, C_2 = -6, 4, -1, 3\n",
    "M1 = equation_to_labeled_graph(C1_1, C2_1, C3_1, C_1)\n",
    "M2 = equation_to_labeled_graph(C1_2, C2_2, C3_2, C_2)\n",
    "M = cartesian_product(M1, M2)\n",
    "print(\"CARTESIAN PRODUCT M =\")\n",
    "for state in M:\n",
    "    for symbol in M[state]:\n",
    "        next_state = M[state][symbol]\n",
    "        print(f\"{state}--{symbol}-->{next_state}\")\n",
    "#? CARTESIAN PRODUCT M =\n",
    "#? ((-5, 1), (-2, 1))--(0, 0, 0)-->((-2, 2), (-1, 1))\n",
    "#? ...\n",
    "#? ((5, 6), (2, 1))--(1, 1, 1)-->((3, 6), (1, 1))"
   ]
  },
  {
   "cell_type": "code",
   "execution_count": null,
   "metadata": {},
   "outputs": [],
   "source": [
    "#* Function to DFS for a path from the starting state to the accepting state.\n",
    "def dfs_iterative(graph: dict, start: tuple, end: tuple, verbose = 0) -> any:\n",
    "\n",
    "    #! Initialize visited set and stack with start state and empty path.\n",
    "    visited = set()\n",
    "    stack = [(start, [])]\n",
    "\n",
    "    #! Continue traversing the graph until the stack is empty.\n",
    "    while stack:\n",
    "        #! Pop the next state and path from the stack.\n",
    "        (state, path) = stack.pop()\n",
    "        \n",
    "        #! Iterate through the transitions of the current state.\n",
    "        for symbol in graph.get(state, {}):\n",
    "            next_state = graph[state][symbol]\n",
    "            new_path = path + [symbol]\n",
    "            if verbose: print(f\"{state}--{symbol}-->{next_state}|{new_path}\")\n",
    "                \n",
    "            #! Check if the next state is the accepting state.\n",
    "            if next_state == end:\n",
    "                return new_path\n",
    "\n",
    "            #! If the next state has not been visited, process it.\n",
    "            if next_state not in visited:\n",
    "                #! Add the next state to the visited set.\n",
    "                visited.add(next_state)\n",
    "\n",
    "                #! Push the next state and updated path onto the stack.\n",
    "                stack.append((next_state, new_path))\n",
    "\n",
    "    #! If no path is found, return None.\n",
    "    return None"
   ]
  },
  {
   "cell_type": "code",
   "execution_count": null,
   "metadata": {},
   "outputs": [],
   "source": [
    "#* Function to find the solution to the equation represented by M.\n",
    "def find_solution(\n",
    "    M: dict, initial_state: tuple, accepting_state: tuple, verbose = 0) -> any:\n",
    "    #! Call the dfs_iterative to find the path from the initial to the accepting.\n",
    "    path = dfs_iterative(M, initial_state, accepting_state, verbose)\n",
    "\n",
    "    #! If no path is found, return None.\n",
    "    if path is None:\n",
    "        return None, None, None\n",
    "\n",
    "    #! Initialize the lists to store the binary values of x1, x2, and x3.\n",
    "    x1, x2, x3 = [], [], []\n",
    "\n",
    "    #! Iterate through the symbols in the path.\n",
    "    for symbol in path:\n",
    "        a1, a2, a3 = symbol\n",
    "        x1.append(str(a1))\n",
    "        x2.append(str(a2))\n",
    "        x3.append(str(a3))\n",
    "\n",
    "    #! Reverse the lists to get the correct binary representation.\n",
    "    x1.reverse()\n",
    "    x2.reverse()\n",
    "    x3.reverse()\n",
    "\n",
    "    #! Convert the binary strings to integers.\n",
    "    x1_int = int(''.join(x1), 2)\n",
    "    x2_int = int(''.join(x2), 2)\n",
    "    x3_int = int(''.join(x3), 2)\n",
    "\n",
    "    #! Return the integer values of x1, x2, and x3.\n",
    "    return x1_int, x2_int, x3_int"
   ]
  },
  {
   "cell_type": "code",
   "execution_count": null,
   "metadata": {},
   "outputs": [],
   "source": [
    "#* Function to check the solution to the equation solved by M.\n",
    "def check_solution(\n",
    "    C1: int, x1: int, C2: int, x2: int, C3: int, x3: int, C: int\n",
    "    ) -> any:\n",
    "    #! Check if the equation is satisfied.\n",
    "    try:\n",
    "        if C1*x1 + C2*x2 + C3*x3 + C == 0: return True\n",
    "    except: return \"No Solution\"\n",
    "    return False"
   ]
  },
  {
   "cell_type": "code",
   "execution_count": null,
   "metadata": {},
   "outputs": [],
   "source": [
    "#* Testing the function with example equation.\n",
    "C1, C2, C3, C = -3, 0, 4, 17\n",
    "M = equation_to_labeled_graph(C1, C2, C3, C)\n",
    "initial_state = (0, 1)\n",
    "accepting_state = (0, k_c(C)+1)\n",
    "x1, x2, x3 = find_solution(M, initial_state, accepting_state, verbose = 1)\n",
    "#? (0, 1)--(1, 0, 1)-->(1, 2)|[(1, 0, 1)]\n",
    "#? (0, 1)--(1, 1, 0)-->(-1, 2)|[(1, 1, 0)]\n",
    "#? ...\n",
    "#? (1, 4)--(1, 1, 1)-->(1, 5)|[(1, 1, 0), (1, 1, 0), (0, 0, 1), (1, 1, 1)]\n",
    "#? (-1, 5)--(0, 1, 0)-->(0, 6)|[(1, 1, 0), (1, 1, 0), (0, 0, 1), (1, 1, 0), (0, 1, 0)]\n",
    "print(f\"TEST 0: x1 = {x1}, x2 = {x2}, x3 = {x3}\")\n",
    "#? TEST 0: x1 = 11, x2 = 27, x3 = 4\n",
    "print(f\"TEST 0: {check_solution(C1, x1, C2, x2, C3, x3, C)}\")\n",
    "#? TEST 0: True"
   ]
  },
  {
   "cell_type": "code",
   "execution_count": null,
   "metadata": {},
   "outputs": [],
   "source": [
    "#* Testing the function with example equation.\n",
    "C1, C2, C3, C = -3, 2, -1, 5\n",
    "M = equation_to_labeled_graph(C1, C2, C3, C)\n",
    "initial_state = (0, 1)\n",
    "accepting_state = (0, k_c(C)+1)\n",
    "x1, x2, x3 = find_solution(M, initial_state, accepting_state, verbose = 1)\n",
    "#? (0, 1)--(1, 1, 0)-->(0, 2)|[(1, 1, 0)]\n",
    "#? (0, 1)--(1, 0, 0)-->(-1, 2)|[(1, 0, 0)]\n",
    "#? ...\n",
    "#? (1, 3)--(0, 0, 0)-->(1, 4)|[(0, 1, 1), (0, 1, 1), (0, 0, 0)]\n",
    "#? (1, 3)--(1, 1, 1)-->(0, 4)|[(0, 1, 1), (0, 1, 1), (1, 1, 1)]\n",
    "print(f\"TEST 0: x1 = {x1}, x2 = {x2}, x3 = {x3}\")\n",
    "#? TEST 0: x1 = 4, x2 = 7, x3 = 7\n",
    "print(f\"TEST 0: {check_solution(C1, x1, C2, x2, C3, x3, C)}\")\n",
    "#? TEST 0: True"
   ]
  },
  {
   "cell_type": "code",
   "execution_count": null,
   "metadata": {},
   "outputs": [],
   "source": [
    "#* Testing the function with example equation.\n",
    "C1, C2, C3, C = -6, 4, -2, 9\n",
    "M = equation_to_labeled_graph(C1, C2, C3, C)\n",
    "initial_state = (0, 1)\n",
    "accepting_state = (0, k_c(C)+1)\n",
    "x1, x2, x3 = find_solution(M, initial_state, accepting_state, verbose = 1)\n",
    "#?\n",
    "print(f\"TEST 0: x1 = {x1}, x2 = {x2}, x3 = {x3}\")\n",
    "#? TEST 0: x1 = None, x2 = None, x3 = None\n",
    "print(f\"TEST 0: {check_solution(C1, x1, C2, x2, C3, x3, C)}\")\n",
    "#? TEST 0: No Solution"
   ]
  },
  {
   "cell_type": "code",
   "execution_count": null,
   "metadata": {},
   "outputs": [],
   "source": [
    "#* Testing the function with example equation.\n",
    "C1, C2, C3, C = -3, 2, 1, 3\n",
    "M = equation_to_labeled_graph(C1, C2, C3, C)\n",
    "initial_state = (0, 1)\n",
    "accepting_state = (0, k_c(C)+1)\n",
    "x1, x2, x3 = find_solution(M, initial_state, accepting_state, verbose = 1)\n",
    "#? (0, 1)--(1, 1, 0)-->(0, 2)|[(1, 1, 0)]\n",
    "#? (0, 1)--(1, 0, 0)-->(-1, 2)|[(1, 0, 0)]\n",
    "#? ...\n",
    "#? (2, 2)--(1, 1, 0)-->(1, 3)|[(0, 1, 1), (1, 1, 0)]\n",
    "#? (2, 2)--(1, 0, 0)-->(0, 3)|[(0, 1, 1), (1, 0, 0)]\n",
    "print(f\"TEST 0: x1 = {x1}, x2 = {x2}, x3 = {x3}\")\n",
    "#? TEST 0: x1 = 2, x2 = 1, x3 = 1\n",
    "print(f\"TEST 0: {check_solution(C1, x1, C2, x2, C3, x3, C)}\")\n",
    "#? TEST 0: True"
   ]
  },
  {
   "cell_type": "code",
   "execution_count": null,
   "metadata": {},
   "outputs": [],
   "source": [
    "#* Testing the function with example equation.\n",
    "C1, C2, C3, C = -6, 4, -1, 3\n",
    "M = equation_to_labeled_graph(C1, C2, C3, C)\n",
    "initial_state = (0, 1)\n",
    "accepting_state = (0, k_c(C)+1)\n",
    "x1, x2, x3 = find_solution(M, initial_state, accepting_state, verbose = 1)\n",
    "#? (0, 1)--(1, 0, 1)-->(-3, 2)|[(1, 0, 1)]\n",
    "#? (0, 1)--(0, 0, 1)-->(0, 2)|[(0, 0, 1)]\n",
    "#? ...\n",
    "#? (2, 2)--(0, 0, 1)-->(1, 3)|[(0, 1, 1), (0, 0, 1)]\n",
    "#? (2, 2)--(1, 1, 1)-->(0, 3)|[(0, 1, 1), (1, 1, 1)]\n",
    "print(f\"TEST 0: x1 = {x1}, x2 = {x2}, x3 = {x3}\")\n",
    "#? TEST 0: x1 = 2, x2 = 3, x3 = 3\n",
    "print(f\"TEST 0: {check_solution(C1, x1, C2, x2, C3, x3, C)}\")\n",
    "#? TEST 0: True"
   ]
  },
  {
   "cell_type": "code",
   "execution_count": null,
   "metadata": {},
   "outputs": [],
   "source": [
    "#* Testing the function with example equation.\n",
    "C1_1, C2_1, C3_1, C_1 = -3, 2, -1, 5\n",
    "C1_2, C2_2, C3_2, C_2 = -6, 4, -2, 9\n",
    "M1 = equation_to_labeled_graph(C1_1, C2_1, C3_1, C_1)\n",
    "M2 = equation_to_labeled_graph(C1_2, C2_2, C3_2, C_2)\n",
    "M = cartesian_product(M1, M2)\n",
    "initial_state = ((0, 1), (0, 1))\n",
    "accepting_state = ((0, k_c(C_1)+1), (0, k_c(C_2)+1))\n",
    "x1, x2, x3 = find_solution(M, initial_state, accepting_state, verbose = 1)\n",
    "#?\n",
    "print(f\"TEST 1: x1 = {x1}, x2 = {x2}, x3 = {x3}\")\n",
    "#? TEST 1: x1 = None, x2 = None, x3 = None\n",
    "print(f\"TEST 1: {check_solution(C1_1, x1, C2_1, x2, C3_1, x3, C_1)}\")\n",
    "#? TEST 1: No Solution"
   ]
  },
  {
   "cell_type": "code",
   "execution_count": null,
   "metadata": {},
   "outputs": [],
   "source": [
    "#* Testing the function with example equation.\n",
    "C1_1, C2_1, C3_1, C_1 = -3, 2, 1, 3\n",
    "C1_2, C2_2, C3_2, C_2 = -6, 4, -1, 3\n",
    "M1 = equation_to_labeled_graph(C1_1, C2_1, C3_1, C_1)\n",
    "M2 = equation_to_labeled_graph(C1_2, C2_2, C3_2, C_2)\n",
    "M = cartesian_product(M1, M2)\n",
    "initial_state = ((0, 1), (0, 1))\n",
    "accepting_state = ((0, k_c(C_1)+1), (0, k_c(C_2)+1))\n",
    "x1, x2, x3 = find_solution(M, initial_state, accepting_state, verbose = 1)\n",
    "#? ((0, 1), (0, 1))--(0, 0, 1)-->((1, 2), (0, 2))|[(0, 0, 1)]\n",
    "#? ((0, 1), (0, 1))--(0, 1, 1)-->((2, 2), (2, 2))|[(0, 1, 1)]\n",
    "#? ...\n",
    "#? ((1, 2), (0, 2))--(1, 0, 1)-->((0, 3), (-3, 3))|[(0, 0, 1), (1, 0, 1)]\n",
    "#? ((1, 2), (0, 2))--(1, 1, 1)-->((1, 3), (-1, 3))|[(0, 0, 1), (1, 1, 1)]\n",
    "print(f\"TEST 2: x1 = {x1}, x2 = {x2}, x3 = {x3}\")\n",
    "#? TEST 2: x1 = None, x2 = None, x3 = None\n",
    "print(f\"TEST 2: {check_solution(C1_1, x1, C2_1, x2, C3_1, x3, C_1)}\")"
   ]
  },
  {
   "cell_type": "code",
   "execution_count": null,
   "metadata": {},
   "outputs": [],
   "source": [
    "#* Testing the function with my own example equation.\n",
    "C1_1, C2_1, C3_1, C_1 = -3, 2, -1, 3\n",
    "C1_2, C2_2, C3_2, C_2 = -6, 4, 1, 3\n",
    "M1 = equation_to_labeled_graph(C1_1, C2_1, C3_1, C_1)\n",
    "M2 = equation_to_labeled_graph(C1_2, C2_2, C3_2, C_2)\n",
    "M = cartesian_product(M1, M2)\n",
    "initial_state = ((0, 1), (0, 1))\n",
    "accepting_state = ((0, k_c(C_1)+1), (0, k_c(C_2)+1))\n",
    "x1, x2, x3 = find_solution(M, initial_state, accepting_state, verbose = 1)\n",
    "#? ((0, 1), (0, 1))--(0, 0, 1)-->((0, 2), (1, 2))|[(0, 0, 1)]\n",
    "#? ...\n",
    "#? ((1, 3), (2, 3))--(1, 1, 0)-->((0, 3), (0, 3))|[(0, 1, 1), (0, 0, 0), (1, 1, 0)]\n",
    "print(f\"TEST 3: x1 = {x1}, x2 = {x2}, x3 = {x3}\")\n",
    "#? TEST 3: x1 = 4, x2 = 5, x3 = 1\n",
    "print(f\"TEST 3: {check_solution(C1_1, x1, C2_1, x2, C3_1, x3, C_1)}\")"
   ]
  },
  {
   "cell_type": "code",
   "execution_count": null,
   "metadata": {},
   "outputs": [],
   "source": [
    "#* Testing the function with my own example equation.\n",
    "C1_1, C2_1, C3_1, C_1 = -3, 3, -4, 3\n",
    "C1_2, C2_2, C3_2, C_2 = -6, 5, 1, 3\n",
    "M1 = equation_to_labeled_graph(C1_1, C2_1, C3_1, C_1)\n",
    "M2 = equation_to_labeled_graph(C1_2, C2_2, C3_2, C_2)\n",
    "M = cartesian_product(M1, M2)\n",
    "initial_state = ((0, 1), (0, 1))\n",
    "accepting_state = ((0, k_c(C_1)+1), (0, k_c(C_2)+1))\n",
    "x1, x2, x3 = find_solution(M, initial_state, accepting_state, verbose = 1)\n",
    "#? ((0, 1), (0, 1))--(1, 0, 1)-->((-3, 2), (-2, 2))|[(1, 0, 1)]\n",
    "#? ...\n",
    "#? ((0, 3), (1, 3))--(1, 1, 0)-->((0, 3), (0, 3))|[(0, 1, 0), (0, 1, 1), (0, 1, 0), (0, 0, 1), (0, 1, 0), (0, 1, 1), (0, 0, 1), (0, 0, 1), (1, 0, 0), (0, 1, 1), (1, 1, 1), (0, 1, 0), (1, 1, 0), (1, 1, 0)]\n",
    "print(f\"TEST 4: x1 = {x1}, x2 = {x2}, x3 = {x3}\")\n",
    "#? TEST 4: x1 = 13568, x2 = 15927, x3 = 1770\n",
    "print(f\"TEST 4: {check_solution(C1_1, x1, C2_1, x2, C3_1, x3, C_1)}\")"
   ]
  },
  {
   "cell_type": "code",
   "execution_count": null,
   "metadata": {},
   "outputs": [],
   "source": [
    "#* Testing the function with my own example equation.\n",
    "C1, C2, C3, C = -3, 3, -4, 3\n",
    "M = equation_to_labeled_graph(C1, C2, C3, C)\n",
    "initial_state = (0, 1)\n",
    "accepting_state = (0, k_c(C)+1)\n",
    "x1, x2, x3 = find_solution(M, initial_state, accepting_state, verbose = 1)\n",
    "#? (0, 1)--(1, 0, 1)-->(-3, 2)|[(1, 0, 1)]\n",
    "#? ...\n",
    "#? (0, 2)--(0, 1, 1)-->(0, 3)|[(0, 1, 1), (0, 1, 1)]\n",
    "print(f\"TEST 5: x1 = {x1}, x2 = {x2}, x3 = {x3}\")\n",
    "#? TEST 5: x1 = 0, x2 = 3, x3 = 3\n",
    "print(f\"TEST 5: {check_solution(C1, x1, C2, x2, C3, x3, C)}\")"
   ]
  }
 ],
 "metadata": {
  "kernelspec": {
   "display_name": "Python 3",
   "language": "python",
   "name": "python3"
  },
  "language_info": {
   "codemirror_mode": {
    "name": "ipython",
    "version": 3
   },
   "file_extension": ".py",
   "mimetype": "text/x-python",
   "name": "python",
   "nbconvert_exporter": "python",
   "pygments_lexer": "ipython3",
   "version": "3.10.0"
  },
  "orig_nbformat": 4
 },
 "nbformat": 4,
 "nbformat_minor": 2
}
